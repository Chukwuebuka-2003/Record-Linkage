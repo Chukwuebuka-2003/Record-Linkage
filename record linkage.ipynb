{
 "cells": [
  {
   "cell_type": "markdown",
   "id": "97c1ef7c-359a-47ec-9f14-a5665cde65cb",
   "metadata": {},
   "source": [
    "# Implementation of Record Linkage in Python"
   ]
  },
  {
   "cell_type": "markdown",
   "id": "1ea4f390-0415-463d-ba6e-8e844c20ff86",
   "metadata": {},
   "source": [
    "Record Linkage is the process of linking data from different sources regarding the same entity"
   ]
  },
  {
   "cell_type": "markdown",
   "id": "270890a5-d998-43ef-a4c6-0007cbb277f5",
   "metadata": {},
   "source": [
    "Its process includes:\n",
    "- Data preprocessing\n",
    "- String similarity metrics\n",
    "- Blocking\n",
    "- Comparisons\n",
    "- Classifications\n",
    "- Post-processing\n",
    "- Evaluations"
   ]
  },
  {
   "cell_type": "code",
   "execution_count": 40,
   "id": "e38d5182-646f-4d02-93ef-bd5f83a13585",
   "metadata": {},
   "outputs": [],
   "source": [
    "# implementing with a fictional dataframes\n",
    "\n",
    "import pandas as pd\n",
    "import recordlinkage"
   ]
  },
  {
   "cell_type": "code",
   "execution_count": 41,
   "id": "f8c8bf4f-1e63-4dac-82ed-cb40f5b88eb7",
   "metadata": {},
   "outputs": [],
   "source": [
    "fixtures_data1 = {\n",
    "    'HomeTeam' : [\"Arsenal\", \"Chelsea\", \"Liverpool\", \"Manchester United\"],\n",
    "    'AwayTeam' : [\"Manchester City\", \"Leeds\", \"Everton\", \"Wolves\"],\n",
    "    'Date' : ['2024-02-19', '2024-02-20','2024-02-21', '2024-02-22'],\n",
    "    'Venue' : ['Emirates Stadium', 'Stamford Bridge', 'Old Trafford', 'Anfield']\n",
    "}\n",
    "\n",
    "\n",
    "fixtures_data2 = {\n",
    "    'HomeTeam' : ['Liverpool', 'Manchester United', 'Chelsea', 'Manchester City'],\n",
    "    'AwayTeam' : ['Everton', 'Leeds', 'Wolves', 'Manchester City'],\n",
    "    'Date' : ['2024-02-22', '2024-02-23', '2024-02-24', '2024-02-25'],\n",
    "    'Venue' : ['Anfield', 'Old Trafford', 'Stamford Bridge', 'Etihad stadium']                                                                                                                                      \n",
    "}"
   ]
  },
  {
   "cell_type": "code",
   "execution_count": 42,
   "id": "826947bc-2367-4da1-a8e6-85ca0b4b7cd7",
   "metadata": {},
   "outputs": [],
   "source": [
    "df1 = pd.DataFrame(fixtures_data1)                           \n",
    "df2 = pd.DataFrame(fixtures_data2)"
   ]
  },
  {
   "cell_type": "code",
   "execution_count": 43,
   "id": "b627585f-47fc-4e19-8006-c29542f0630f",
   "metadata": {},
   "outputs": [
    {
     "data": {
      "text/html": [
       "<div>\n",
       "<style scoped>\n",
       "    .dataframe tbody tr th:only-of-type {\n",
       "        vertical-align: middle;\n",
       "    }\n",
       "\n",
       "    .dataframe tbody tr th {\n",
       "        vertical-align: top;\n",
       "    }\n",
       "\n",
       "    .dataframe thead th {\n",
       "        text-align: right;\n",
       "    }\n",
       "</style>\n",
       "<table border=\"1\" class=\"dataframe\">\n",
       "  <thead>\n",
       "    <tr style=\"text-align: right;\">\n",
       "      <th></th>\n",
       "      <th>HomeTeam</th>\n",
       "      <th>AwayTeam</th>\n",
       "      <th>Date</th>\n",
       "      <th>Venue</th>\n",
       "    </tr>\n",
       "  </thead>\n",
       "  <tbody>\n",
       "    <tr>\n",
       "      <th>0</th>\n",
       "      <td>Arsenal</td>\n",
       "      <td>Manchester City</td>\n",
       "      <td>2024-02-19</td>\n",
       "      <td>Emirates Stadium</td>\n",
       "    </tr>\n",
       "    <tr>\n",
       "      <th>1</th>\n",
       "      <td>Chelsea</td>\n",
       "      <td>Leeds</td>\n",
       "      <td>2024-02-20</td>\n",
       "      <td>Stamford Bridge</td>\n",
       "    </tr>\n",
       "    <tr>\n",
       "      <th>2</th>\n",
       "      <td>Liverpool</td>\n",
       "      <td>Everton</td>\n",
       "      <td>2024-02-21</td>\n",
       "      <td>Old Trafford</td>\n",
       "    </tr>\n",
       "    <tr>\n",
       "      <th>3</th>\n",
       "      <td>Manchester United</td>\n",
       "      <td>Wolves</td>\n",
       "      <td>2024-02-22</td>\n",
       "      <td>Anfield</td>\n",
       "    </tr>\n",
       "  </tbody>\n",
       "</table>\n",
       "</div>"
      ],
      "text/plain": [
       "            HomeTeam         AwayTeam        Date             Venue\n",
       "0            Arsenal  Manchester City  2024-02-19  Emirates Stadium\n",
       "1            Chelsea            Leeds  2024-02-20   Stamford Bridge\n",
       "2          Liverpool          Everton  2024-02-21      Old Trafford\n",
       "3  Manchester United           Wolves  2024-02-22           Anfield"
      ]
     },
     "execution_count": 43,
     "metadata": {},
     "output_type": "execute_result"
    }
   ],
   "source": [
    "df1"
   ]
  },
  {
   "cell_type": "code",
   "execution_count": 44,
   "id": "b9be1bb0-c836-479d-9078-9c65827fab77",
   "metadata": {},
   "outputs": [
    {
     "data": {
      "text/html": [
       "<div>\n",
       "<style scoped>\n",
       "    .dataframe tbody tr th:only-of-type {\n",
       "        vertical-align: middle;\n",
       "    }\n",
       "\n",
       "    .dataframe tbody tr th {\n",
       "        vertical-align: top;\n",
       "    }\n",
       "\n",
       "    .dataframe thead th {\n",
       "        text-align: right;\n",
       "    }\n",
       "</style>\n",
       "<table border=\"1\" class=\"dataframe\">\n",
       "  <thead>\n",
       "    <tr style=\"text-align: right;\">\n",
       "      <th></th>\n",
       "      <th>HomeTeam</th>\n",
       "      <th>AwayTeam</th>\n",
       "      <th>Date</th>\n",
       "      <th>Venue</th>\n",
       "    </tr>\n",
       "  </thead>\n",
       "  <tbody>\n",
       "    <tr>\n",
       "      <th>0</th>\n",
       "      <td>Liverpool</td>\n",
       "      <td>Everton</td>\n",
       "      <td>2024-02-22</td>\n",
       "      <td>Anfield</td>\n",
       "    </tr>\n",
       "    <tr>\n",
       "      <th>1</th>\n",
       "      <td>Manchester United</td>\n",
       "      <td>Leeds</td>\n",
       "      <td>2024-02-23</td>\n",
       "      <td>Old Trafford</td>\n",
       "    </tr>\n",
       "    <tr>\n",
       "      <th>2</th>\n",
       "      <td>Chelsea</td>\n",
       "      <td>Wolves</td>\n",
       "      <td>2024-02-24</td>\n",
       "      <td>Stamford Bridge</td>\n",
       "    </tr>\n",
       "    <tr>\n",
       "      <th>3</th>\n",
       "      <td>Manchester City</td>\n",
       "      <td>Manchester City</td>\n",
       "      <td>2024-02-25</td>\n",
       "      <td>Etihad stadium</td>\n",
       "    </tr>\n",
       "  </tbody>\n",
       "</table>\n",
       "</div>"
      ],
      "text/plain": [
       "            HomeTeam         AwayTeam        Date            Venue\n",
       "0          Liverpool          Everton  2024-02-22          Anfield\n",
       "1  Manchester United            Leeds  2024-02-23     Old Trafford\n",
       "2            Chelsea           Wolves  2024-02-24  Stamford Bridge\n",
       "3    Manchester City  Manchester City  2024-02-25   Etihad stadium"
      ]
     },
     "execution_count": 44,
     "metadata": {},
     "output_type": "execute_result"
    }
   ],
   "source": [
    "df2"
   ]
  },
  {
   "cell_type": "markdown",
   "id": "c9cc28a5-e081-4597-a815-0faaecc6738c",
   "metadata": {},
   "source": [
    "# Implementing Blocking"
   ]
  },
  {
   "cell_type": "code",
   "execution_count": 45,
   "id": "9d276244-ccbd-4db3-9b44-0f13e17ad6e8",
   "metadata": {},
   "outputs": [
    {
     "data": {
      "text/plain": [
       "<Index>"
      ]
     },
     "execution_count": 45,
     "metadata": {},
     "output_type": "execute_result"
    }
   ],
   "source": [
    "indexer = recordlinkage.Index()  #create an empty object of recordlinkage index\n",
    "indexer.block('Date') #block the date column"
   ]
  },
  {
   "cell_type": "code",
   "execution_count": 46,
   "id": "22d3ae39-6946-4b2f-81c5-69796a0f94db",
   "metadata": {},
   "outputs": [
    {
     "data": {
      "text/plain": [
       "MultiIndex([(3, 0)],\n",
       "           )"
      ]
     },
     "execution_count": 46,
     "metadata": {},
     "output_type": "execute_result"
    }
   ],
   "source": [
    "candidate_links = indexer.index(df1, df2)\n",
    "candidate_links"
   ]
  },
  {
   "cell_type": "markdown",
   "id": "8c521201-b250-4bf5-9f3e-8169e11160b5",
   "metadata": {},
   "source": [
    "# Implementing Comparison"
   ]
  },
  {
   "cell_type": "code",
   "execution_count": 47,
   "id": "f7ad80f8-3114-4898-91b7-3d0d2d49acce",
   "metadata": {},
   "outputs": [
    {
     "data": {
      "text/plain": [
       "<Compare>"
      ]
     },
     "execution_count": 47,
     "metadata": {},
     "output_type": "execute_result"
    }
   ],
   "source": [
    "compare = recordlinkage.Compare()  #create a compare empty object and set it to the variable compare\n",
    "compare.string('HomeTeam', 'HomeTeam', method='levenshtein', threshold=0.8)\n",
    "compare.string('AwayTeam', 'AwayTeam', method='levenshtein', threshold = 0.8)"
   ]
  },
  {
   "cell_type": "markdown",
   "id": "fa177b03-c04e-48ac-a8ce-2cc2300e4736",
   "metadata": {},
   "source": [
    "# Compute Similarity"
   ]
  },
  {
   "cell_type": "code",
   "execution_count": 48,
   "id": "26620aeb-8686-446c-a318-adbb62aac4b8",
   "metadata": {},
   "outputs": [
    {
     "data": {
      "text/html": [
       "<div>\n",
       "<style scoped>\n",
       "    .dataframe tbody tr th:only-of-type {\n",
       "        vertical-align: middle;\n",
       "    }\n",
       "\n",
       "    .dataframe tbody tr th {\n",
       "        vertical-align: top;\n",
       "    }\n",
       "\n",
       "    .dataframe thead th {\n",
       "        text-align: right;\n",
       "    }\n",
       "</style>\n",
       "<table border=\"1\" class=\"dataframe\">\n",
       "  <thead>\n",
       "    <tr style=\"text-align: right;\">\n",
       "      <th></th>\n",
       "      <th></th>\n",
       "      <th>0</th>\n",
       "      <th>1</th>\n",
       "    </tr>\n",
       "  </thead>\n",
       "  <tbody>\n",
       "    <tr>\n",
       "      <th>3</th>\n",
       "      <th>0</th>\n",
       "      <td>0.0</td>\n",
       "      <td>0.0</td>\n",
       "    </tr>\n",
       "  </tbody>\n",
       "</table>\n",
       "</div>"
      ],
      "text/plain": [
       "       0    1\n",
       "3 0  0.0  0.0"
      ]
     },
     "execution_count": 48,
     "metadata": {},
     "output_type": "execute_result"
    }
   ],
   "source": [
    "features = compare.compute(candidate_links, df1, df2)\n",
    "features"
   ]
  },
  {
   "cell_type": "markdown",
   "id": "786330df-570f-487a-8c12-d0a51dcd78be",
   "metadata": {},
   "source": [
    "# Classification"
   ]
  },
  {
   "cell_type": "code",
   "execution_count": 53,
   "id": "8952b456-0db6-49a1-b452-5b9b995a242b",
   "metadata": {},
   "outputs": [
    {
     "name": "stdout",
     "output_type": "stream",
     "text": [
      "Empty DataFrame\n",
      "Columns: [0, 1]\n",
      "Index: []\n"
     ]
    }
   ],
   "source": [
    "matches = features[features.sum(axis=1)> 2]\n",
    " \n",
    "print(matches)"
   ]
  },
  {
   "cell_type": "markdown",
   "id": "22f4936f-6b6f-43b5-ba69-1a504ec101c8",
   "metadata": {},
   "source": [
    "This means that there are no potential matches between the two dataframes"
   ]
  },
  {
   "cell_type": "code",
   "execution_count": null,
   "id": "8ae7f9bf-3bd3-40a2-bfe0-a4cf3c591fdd",
   "metadata": {},
   "outputs": [],
   "source": []
  }
 ],
 "metadata": {
  "kernelspec": {
   "display_name": "Python 3 (ipykernel)",
   "language": "python",
   "name": "python3"
  },
  "language_info": {
   "codemirror_mode": {
    "name": "ipython",
    "version": 3
   },
   "file_extension": ".py",
   "mimetype": "text/x-python",
   "name": "python",
   "nbconvert_exporter": "python",
   "pygments_lexer": "ipython3",
   "version": "3.11.5"
  }
 },
 "nbformat": 4,
 "nbformat_minor": 5
}
